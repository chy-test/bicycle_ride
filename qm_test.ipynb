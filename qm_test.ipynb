{
 "cells": [
  {
   "cell_type": "code",
   "execution_count": 1,
   "id": "d2302fbf",
   "metadata": {},
   "outputs": [],
   "source": [
    "#from preprocess import Preprocess\n",
    "\n",
    "import json\n",
    "import pandas as pd\n",
    "\n",
    "import re \n",
    "from datetime import datetime\n",
    "\n",
    "import matplotlib.pyplot as plt"
   ]
  },
  {
   "cell_type": "code",
   "execution_count": 2,
   "id": "2c770e64",
   "metadata": {},
   "outputs": [],
   "source": [
    "class Preprocessor:\n",
    "    def __init__(self, data):\n",
    "        self.data = data\n",
    "    \n",
    "    def preprocess(self):\n",
    "        input_keys = list(self.data['results']['root_node']['results'].keys())\n",
    "        for i in input_keys:\n",
    "            for j in self.data['results']['root_node']['results'][i]['results']:\n",
    "                yield {\n",
    "                    'created_at': j['created_at'],\n",
    "                    'project_node_input_id': j['project_node_input_id'],\n",
    "                    'project_node_output_id': j['project_node_output_id'],\n",
    "                    'workpackage_total_size': j['workpackage_total_size'],\n",
    "                    'loss': j['loss'],\n",
    "\n",
    "                    # task_output\n",
    "                    'answer': j['task_output']['answer'], \n",
    "                    'cant_solve': j['task_output']['cant_solve'],\n",
    "                    'corrupt_data': j['task_output']['corrupt_data'],\n",
    "                    'duration_ms': j['task_output']['duration_ms'],\n",
    "\n",
    "                    # user\n",
    "                    'vendor_id': j['user']['vendor_id'],\n",
    "                    'vendor_user_id': j['user']['vendor_user_id'],\n",
    "                    'id': j['user']['id'],\n",
    "                    'image_url': j['task_input']['image_url'],\n",
    "                }\n"
   ]
  },
  {
   "cell_type": "code",
   "execution_count": 3,
   "id": "86629934",
   "metadata": {},
   "outputs": [],
   "source": [
    "if __name__ == '__main__':\n",
    "    with open('./data/anonymized_project.json', 'r') as f:\n",
    "        data = json.load(f)"
   ]
  },
  {
   "cell_type": "code",
   "execution_count": 4,
   "id": "7ae938f9",
   "metadata": {},
   "outputs": [],
   "source": [
    "# loading the dataframe by instantiating the Preprocessor class\n",
    "\n",
    "d = Preprocessor(data)\n",
    "df = pd.DataFrame(d.preprocess())"
   ]
  },
  {
   "cell_type": "code",
   "execution_count": 5,
   "id": "176d7011",
   "metadata": {},
   "outputs": [
    {
     "data": {
      "text/html": [
       "<div>\n",
       "<style scoped>\n",
       "    .dataframe tbody tr th:only-of-type {\n",
       "        vertical-align: middle;\n",
       "    }\n",
       "\n",
       "    .dataframe tbody tr th {\n",
       "        vertical-align: top;\n",
       "    }\n",
       "\n",
       "    .dataframe thead th {\n",
       "        text-align: right;\n",
       "    }\n",
       "</style>\n",
       "<table border=\"1\" class=\"dataframe\">\n",
       "  <thead>\n",
       "    <tr style=\"text-align: right;\">\n",
       "      <th></th>\n",
       "      <th>created_at</th>\n",
       "      <th>project_node_input_id</th>\n",
       "      <th>project_node_output_id</th>\n",
       "      <th>workpackage_total_size</th>\n",
       "      <th>loss</th>\n",
       "      <th>answer</th>\n",
       "      <th>cant_solve</th>\n",
       "      <th>corrupt_data</th>\n",
       "      <th>duration_ms</th>\n",
       "      <th>vendor_id</th>\n",
       "      <th>vendor_user_id</th>\n",
       "      <th>id</th>\n",
       "      <th>image_url</th>\n",
       "    </tr>\n",
       "  </thead>\n",
       "  <tbody>\n",
       "    <tr>\n",
       "      <th>0</th>\n",
       "      <td>2021-02-25T14:08:11.319438+00:00</td>\n",
       "      <td>7e8984b6-dff7-4015-865a-b721a2faf681</td>\n",
       "      <td>0000439a-96ac-4bd4-8753-a4baa229ecf2</td>\n",
       "      <td>5</td>\n",
       "      <td>0.0</td>\n",
       "      <td>no</td>\n",
       "      <td>False</td>\n",
       "      <td>False</td>\n",
       "      <td>997</td>\n",
       "      <td>vendor_01</td>\n",
       "      <td>annotator_12</td>\n",
       "      <td>08af8775-a72c-4c59-b60f-9ce7df04fa92</td>\n",
       "      <td>https://qm-auto-annotator.s3.eu-central-1.amaz...</td>\n",
       "    </tr>\n",
       "    <tr>\n",
       "      <th>1</th>\n",
       "      <td>2021-02-25T13:14:39.411149+00:00</td>\n",
       "      <td>7e8984b6-dff7-4015-865a-b721a2faf681</td>\n",
       "      <td>0488b469-7c5f-459a-bfcb-ed94957c09c2</td>\n",
       "      <td>5</td>\n",
       "      <td>0.0</td>\n",
       "      <td>no</td>\n",
       "      <td>False</td>\n",
       "      <td>False</td>\n",
       "      <td>845</td>\n",
       "      <td>vendor_01</td>\n",
       "      <td>annotator_11</td>\n",
       "      <td>62f1cf90-71c9-45c5-990c-f9dc0aa6ea3d</td>\n",
       "      <td>https://qm-auto-annotator.s3.eu-central-1.amaz...</td>\n",
       "    </tr>\n",
       "    <tr>\n",
       "      <th>2</th>\n",
       "      <td>2021-02-25T15:19:57.889434+00:00</td>\n",
       "      <td>7e8984b6-dff7-4015-865a-b721a2faf681</td>\n",
       "      <td>323902a9-3b41-4885-8796-4e393aa2e0a0</td>\n",
       "      <td>5</td>\n",
       "      <td>0.0</td>\n",
       "      <td>no</td>\n",
       "      <td>False</td>\n",
       "      <td>False</td>\n",
       "      <td>1468</td>\n",
       "      <td>vendor_01</td>\n",
       "      <td>annotator_22</td>\n",
       "      <td>780c974e-6ce7-4f1d-9afe-56bf96753fca</td>\n",
       "      <td>https://qm-auto-annotator.s3.eu-central-1.amaz...</td>\n",
       "    </tr>\n",
       "    <tr>\n",
       "      <th>3</th>\n",
       "      <td>2021-02-26T03:56:18.770331+00:00</td>\n",
       "      <td>7e8984b6-dff7-4015-865a-b721a2faf681</td>\n",
       "      <td>4222ac20-7aaa-4b07-bb2b-4423bf41eefe</td>\n",
       "      <td>5</td>\n",
       "      <td>0.0</td>\n",
       "      <td>no</td>\n",
       "      <td>False</td>\n",
       "      <td>False</td>\n",
       "      <td>1062</td>\n",
       "      <td>vendor_01</td>\n",
       "      <td>annotator_17</td>\n",
       "      <td>94afdf79-917c-4904-bdaa-7a121f33b0ff</td>\n",
       "      <td>https://qm-auto-annotator.s3.eu-central-1.amaz...</td>\n",
       "    </tr>\n",
       "    <tr>\n",
       "      <th>4</th>\n",
       "      <td>2021-02-25T15:39:06.644705+00:00</td>\n",
       "      <td>7e8984b6-dff7-4015-865a-b721a2faf681</td>\n",
       "      <td>42ba767f-5bd1-4e62-aff1-4e716fd23623</td>\n",
       "      <td>5</td>\n",
       "      <td>0.0</td>\n",
       "      <td>no</td>\n",
       "      <td>False</td>\n",
       "      <td>False</td>\n",
       "      <td>879</td>\n",
       "      <td>vendor_01</td>\n",
       "      <td>annotator_02</td>\n",
       "      <td>37a6036c-a9ef-4fcb-b554-7058f00415db</td>\n",
       "      <td>https://qm-auto-annotator.s3.eu-central-1.amaz...</td>\n",
       "    </tr>\n",
       "  </tbody>\n",
       "</table>\n",
       "</div>"
      ],
      "text/plain": [
       "                         created_at                 project_node_input_id  \\\n",
       "0  2021-02-25T14:08:11.319438+00:00  7e8984b6-dff7-4015-865a-b721a2faf681   \n",
       "1  2021-02-25T13:14:39.411149+00:00  7e8984b6-dff7-4015-865a-b721a2faf681   \n",
       "2  2021-02-25T15:19:57.889434+00:00  7e8984b6-dff7-4015-865a-b721a2faf681   \n",
       "3  2021-02-26T03:56:18.770331+00:00  7e8984b6-dff7-4015-865a-b721a2faf681   \n",
       "4  2021-02-25T15:39:06.644705+00:00  7e8984b6-dff7-4015-865a-b721a2faf681   \n",
       "\n",
       "                 project_node_output_id  workpackage_total_size  loss answer  \\\n",
       "0  0000439a-96ac-4bd4-8753-a4baa229ecf2                       5   0.0     no   \n",
       "1  0488b469-7c5f-459a-bfcb-ed94957c09c2                       5   0.0     no   \n",
       "2  323902a9-3b41-4885-8796-4e393aa2e0a0                       5   0.0     no   \n",
       "3  4222ac20-7aaa-4b07-bb2b-4423bf41eefe                       5   0.0     no   \n",
       "4  42ba767f-5bd1-4e62-aff1-4e716fd23623                       5   0.0     no   \n",
       "\n",
       "   cant_solve  corrupt_data  duration_ms  vendor_id vendor_user_id  \\\n",
       "0       False         False          997  vendor_01   annotator_12   \n",
       "1       False         False          845  vendor_01   annotator_11   \n",
       "2       False         False         1468  vendor_01   annotator_22   \n",
       "3       False         False         1062  vendor_01   annotator_17   \n",
       "4       False         False          879  vendor_01   annotator_02   \n",
       "\n",
       "                                     id  \\\n",
       "0  08af8775-a72c-4c59-b60f-9ce7df04fa92   \n",
       "1  62f1cf90-71c9-45c5-990c-f9dc0aa6ea3d   \n",
       "2  780c974e-6ce7-4f1d-9afe-56bf96753fca   \n",
       "3  94afdf79-917c-4904-bdaa-7a121f33b0ff   \n",
       "4  37a6036c-a9ef-4fcb-b554-7058f00415db   \n",
       "\n",
       "                                           image_url  \n",
       "0  https://qm-auto-annotator.s3.eu-central-1.amaz...  \n",
       "1  https://qm-auto-annotator.s3.eu-central-1.amaz...  \n",
       "2  https://qm-auto-annotator.s3.eu-central-1.amaz...  \n",
       "3  https://qm-auto-annotator.s3.eu-central-1.amaz...  \n",
       "4  https://qm-auto-annotator.s3.eu-central-1.amaz...  "
      ]
     },
     "execution_count": 5,
     "metadata": {},
     "output_type": "execute_result"
    }
   ],
   "source": [
    "df.head()"
   ]
  },
  {
   "cell_type": "code",
   "execution_count": 18,
   "id": "d039f23a",
   "metadata": {},
   "outputs": [],
   "source": [
    "# changing the type of some columns, creating new ones for further analysis\n",
    "\n",
    "df['created_at'] = pd.to_datetime(df['created_at'])\n",
    "df.set_index('created_at', inplace=True)\n",
    "\n",
    "df['image_name'] = df['image_url'].str.extract('\\/(\\w+)\\.jpg$').fillna('')\n",
    "\n",
    "# dropping the columns where all values are the same - optional\n",
    "\n",
    "#cols_to_drop = [col for col in df.columns if df[col].nunique() == 1]\n",
    "#df.drop(cols_to_drop, axis=1, inplace=True)"
   ]
  },
  {
   "cell_type": "code",
   "execution_count": 6,
   "id": "2893a5a6",
   "metadata": {},
   "outputs": [],
   "source": [
    "# loading the ref dataset\n",
    "\n",
    "with open('./data/references.json', 'r') as f:\n",
    "    ref = json.load(f)"
   ]
  },
  {
   "cell_type": "code",
   "execution_count": 7,
   "id": "c57e26eb",
   "metadata": {},
   "outputs": [
    {
     "data": {
      "text/html": [
       "<div>\n",
       "<style scoped>\n",
       "    .dataframe tbody tr th:only-of-type {\n",
       "        vertical-align: middle;\n",
       "    }\n",
       "\n",
       "    .dataframe tbody tr th {\n",
       "        vertical-align: top;\n",
       "    }\n",
       "\n",
       "    .dataframe thead th {\n",
       "        text-align: right;\n",
       "    }\n",
       "</style>\n",
       "<table border=\"1\" class=\"dataframe\">\n",
       "  <thead>\n",
       "    <tr style=\"text-align: right;\">\n",
       "      <th></th>\n",
       "      <th>image_name</th>\n",
       "      <th>is_bicycle</th>\n",
       "    </tr>\n",
       "  </thead>\n",
       "  <tbody>\n",
       "    <tr>\n",
       "      <th>0</th>\n",
       "      <td>img_4686</td>\n",
       "      <td>False</td>\n",
       "    </tr>\n",
       "    <tr>\n",
       "      <th>1</th>\n",
       "      <td>img_8607</td>\n",
       "      <td>True</td>\n",
       "    </tr>\n",
       "    <tr>\n",
       "      <th>2</th>\n",
       "      <td>img_5541</td>\n",
       "      <td>False</td>\n",
       "    </tr>\n",
       "    <tr>\n",
       "      <th>3</th>\n",
       "      <td>img_3218</td>\n",
       "      <td>False</td>\n",
       "    </tr>\n",
       "    <tr>\n",
       "      <th>4</th>\n",
       "      <td>img_3247</td>\n",
       "      <td>True</td>\n",
       "    </tr>\n",
       "  </tbody>\n",
       "</table>\n",
       "</div>"
      ],
      "text/plain": [
       "  image_name  is_bicycle\n",
       "0   img_4686       False\n",
       "1   img_8607        True\n",
       "2   img_5541       False\n",
       "3   img_3218       False\n",
       "4   img_3247        True"
      ]
     },
     "execution_count": 7,
     "metadata": {},
     "output_type": "execute_result"
    }
   ],
   "source": [
    "references = pd.DataFrame([(k, v['is_bicycle']) for k, v in ref.items()], columns=['image_name', 'is_bicycle'])\n",
    "references.head()"
   ]
  },
  {
   "cell_type": "markdown",
   "id": "4a719b39",
   "metadata": {},
   "source": [
    "## Analysis"
   ]
  },
  {
   "cell_type": "raw",
   "id": "96f26348",
   "metadata": {},
   "source": [
    "1. Gather insights about the annotators:\n",
    "a. How many annotators did contribute to the dataset?\n",
    "b. What are the average, min and max annotation times (durations)? Feel free to\n",
    "add visual representations here such as graphs if you like.\n",
    "c. Did all annotators produce the same amount of results, or are there\n",
    "differences?\n",
    "d. Are there questions for which annotators highly disagree?\n",
    "2. Besides picking yes or no the annotators had the chance to tell if the data were\n",
    "corrupted or if they for any reason were not able to solve the task. These are fields\n",
    "'cant_solve' and 'corrupt_data' given in the task_output.\n",
    "a. How often does each occur in the project and do you see a trend within the\n",
    "annotators that made use of these options?\n",
    "\n",
    "3. Is the reference set balanced? Please demonstrate via numbers and visualizations.\n",
    "4. Using the reference set, can you identify good and bad annotators? Please use\n",
    "statistics and visualizations. Feel free to get creative."
   ]
  },
  {
   "cell_type": "code",
   "execution_count": 8,
   "id": "1256e74a",
   "metadata": {},
   "outputs": [
    {
     "name": "stdout",
     "output_type": "stream",
     "text": [
      "22 annotators contributed to the dataset\n"
     ]
    }
   ],
   "source": [
    "# a. How many annotators did contribute to the dataset?\n",
    "\n",
    "print(\"{} annotators contributed to the dataset\".format(df.vendor_user_id.nunique()))"
   ]
  },
  {
   "cell_type": "code",
   "execution_count": 9,
   "id": "a14cd4fe",
   "metadata": {},
   "outputs": [],
   "source": [
    "#b. What are the average, min and max annotation times (durations)? Feel free to\n",
    "# add visual representations here such as graphs if you like."
   ]
  },
  {
   "cell_type": "code",
   "execution_count": 10,
   "id": "8904dca1",
   "metadata": {},
   "outputs": [
    {
     "data": {
      "text/plain": [
       "<AxesSubplot:>"
      ]
     },
     "execution_count": 10,
     "metadata": {},
     "output_type": "execute_result"
    },
    {
     "data": {
      "image/png": "[encoded data removed]",
      "text/plain": [
       "<Figure size 432x288 with 1 Axes>"
      ]
     },
     "metadata": {
      "needs_background": "light"
     },
     "output_type": "display_data"
    }
   ],
   "source": [
    "df.duration_ms.hist()"
   ]
  },
  {
   "cell_type": "code",
   "execution_count": 11,
   "id": "becc59e3",
   "metadata": {},
   "outputs": [],
   "source": [
    "# negative duration does not make a lot of sense\n",
    "\n",
    "df = df[df.duration_ms > 0]"
   ]
  },
  {
   "cell_type": "code",
   "execution_count": 12,
   "id": "33aaf708",
   "metadata": {},
   "outputs": [
    {
     "name": "stdout",
     "output_type": "stream",
     "text": [
      "Maximum duration: 42398.0 ms\n",
      "Minimum duration: 10.0 ms\n",
      "Average duration: 1289.9 ms\n"
     ]
    }
   ],
   "source": [
    "print(\"Maximum duration: {:.1f} ms\\nMinimum duration: {:.1f} ms\\nAverage duration: {:.1f} ms\".format(df.duration_ms.max(), df.duration_ms.min(), df.duration_ms.mean()))\n"
   ]
  },
  {
   "cell_type": "code",
   "execution_count": 13,
   "id": "5fdb87e6",
   "metadata": {},
   "outputs": [
    {
     "data": {
      "image/png": "[encoded data removed]",
      "text/plain": [
       "<Figure size 720x432 with 1 Axes>"
      ]
     },
     "metadata": {
      "needs_background": "light"
     },
     "output_type": "display_data"
    }
   ],
   "source": [
    "plt.figure(figsize=(10,6))\n",
    "ax=df.duration_ms.hist(bins=30)\n",
    "plt.axvline(df.duration_ms.mean(), color='r', linestyle='--', label='Mean')\n",
    "plt.axvline(df.duration_ms.max(), color='g', linestyle='--', label='Max')\n",
    "plt.axvline(df.duration_ms.min(), color='b', linestyle='--', label='Min')\n",
    "plt.legend(loc='lower right')\n",
    "plt.show()"
   ]
  },
  {
   "cell_type": "code",
   "execution_count": 14,
   "id": "9b1407a1",
   "metadata": {},
   "outputs": [],
   "source": [
    "# c. Did all annotators produce the same amount of results, or are there differences?"
   ]
  },
  {
   "cell_type": "code",
   "execution_count": 15,
   "id": "e3c0f490",
   "metadata": {},
   "outputs": [
    {
     "data": {
      "image/png": "[encoded data removed]",
      "text/plain": [
       "<Figure size 1080x576 with 1 Axes>"
      ]
     },
     "metadata": {
      "needs_background": "light"
     },
     "output_type": "display_data"
    }
   ],
   "source": [
    "plt.figure(figsize=(15, 8))\n",
    "\n",
    "counts = df.vendor_user_id.value_counts()\n",
    "ax = counts.plot(kind='bar')\n",
    "\n",
    "for i, count in enumerate(counts):\n",
    "    ax.text(i, count+0.1, str(count), ha='center', va='bottom')\n",
    "plt.title(\"Number of annotated images by individual annotator\")\n",
    "\n",
    "plt.show()\n"
   ]
  },
  {
   "cell_type": "code",
   "execution_count": 22,
   "id": "da7b3dde",
   "metadata": {},
   "outputs": [],
   "source": [
    "# d. Are there questions for which annotators highly disagree?\n",
    "\n",
    "answ = pd.pivot_table(df, index='image_name', columns='answer', values='vendor_user_id', aggfunc='count').fillna(0)\n",
    "answ = answ.reset_index()"
   ]
  },
  {
   "cell_type": "code",
   "execution_count": 24,
   "id": "623a8f8b",
   "metadata": {},
   "outputs": [],
   "source": [
    "# calculating the percentage of each answer\n",
    "\n",
    "answ['yes_pct'] = answ.apply(lambda row: (row['yes'] / (row['yes'] + row['no'])) * 100, axis=1)\n",
    "answ['no_pct'] = answ.apply(lambda row: (row['no'] / (row['yes'] + row['no'])) * 100, axis=1)"
   ]
  },
  {
   "cell_type": "code",
   "execution_count": 25,
   "id": "c9cc50b6",
   "metadata": {},
   "outputs": [],
   "source": [
    "answ['agreement'] = abs(answ.yes_pct - answ.no_pct)\n",
    "# absolute value difference bewteen the number of responses, the lower the value, the higher the disagreement"
   ]
  },
  {
   "cell_type": "code",
   "execution_count": 26,
   "id": "c1bcf229",
   "metadata": {},
   "outputs": [
    {
     "data": {
      "text/html": [
       "<div>\n",
       "<style scoped>\n",
       "    .dataframe tbody tr th:only-of-type {\n",
       "        vertical-align: middle;\n",
       "    }\n",
       "\n",
       "    .dataframe tbody tr th {\n",
       "        vertical-align: top;\n",
       "    }\n",
       "\n",
       "    .dataframe thead th {\n",
       "        text-align: right;\n",
       "    }\n",
       "</style>\n",
       "<table border=\"1\" class=\"dataframe\">\n",
       "  <thead>\n",
       "    <tr style=\"text-align: right;\">\n",
       "      <th>answer</th>\n",
       "      <th>image_name</th>\n",
       "      <th></th>\n",
       "      <th>no</th>\n",
       "      <th>yes</th>\n",
       "      <th>yes_pct</th>\n",
       "      <th>no_pct</th>\n",
       "      <th>agreement</th>\n",
       "    </tr>\n",
       "  </thead>\n",
       "  <tbody>\n",
       "    <tr>\n",
       "      <th>7533</th>\n",
       "      <td>img_7533</td>\n",
       "      <td>0.0</td>\n",
       "      <td>5.0</td>\n",
       "      <td>5.0</td>\n",
       "      <td>50.0</td>\n",
       "      <td>50.0</td>\n",
       "      <td>0.0</td>\n",
       "    </tr>\n",
       "    <tr>\n",
       "      <th>7309</th>\n",
       "      <td>img_7309</td>\n",
       "      <td>0.0</td>\n",
       "      <td>5.0</td>\n",
       "      <td>5.0</td>\n",
       "      <td>50.0</td>\n",
       "      <td>50.0</td>\n",
       "      <td>0.0</td>\n",
       "    </tr>\n",
       "    <tr>\n",
       "      <th>3771</th>\n",
       "      <td>img_3771</td>\n",
       "      <td>0.0</td>\n",
       "      <td>5.0</td>\n",
       "      <td>5.0</td>\n",
       "      <td>50.0</td>\n",
       "      <td>50.0</td>\n",
       "      <td>0.0</td>\n",
       "    </tr>\n",
       "    <tr>\n",
       "      <th>3382</th>\n",
       "      <td>img_3382</td>\n",
       "      <td>0.0</td>\n",
       "      <td>5.0</td>\n",
       "      <td>5.0</td>\n",
       "      <td>50.0</td>\n",
       "      <td>50.0</td>\n",
       "      <td>0.0</td>\n",
       "    </tr>\n",
       "    <tr>\n",
       "      <th>7080</th>\n",
       "      <td>img_7080</td>\n",
       "      <td>0.0</td>\n",
       "      <td>5.0</td>\n",
       "      <td>5.0</td>\n",
       "      <td>50.0</td>\n",
       "      <td>50.0</td>\n",
       "      <td>0.0</td>\n",
       "    </tr>\n",
       "    <tr>\n",
       "      <th>...</th>\n",
       "      <td>...</td>\n",
       "      <td>...</td>\n",
       "      <td>...</td>\n",
       "      <td>...</td>\n",
       "      <td>...</td>\n",
       "      <td>...</td>\n",
       "      <td>...</td>\n",
       "    </tr>\n",
       "    <tr>\n",
       "      <th>2414</th>\n",
       "      <td>img_2414</td>\n",
       "      <td>0.0</td>\n",
       "      <td>5.0</td>\n",
       "      <td>5.0</td>\n",
       "      <td>50.0</td>\n",
       "      <td>50.0</td>\n",
       "      <td>0.0</td>\n",
       "    </tr>\n",
       "    <tr>\n",
       "      <th>5299</th>\n",
       "      <td>img_5299</td>\n",
       "      <td>0.0</td>\n",
       "      <td>5.0</td>\n",
       "      <td>5.0</td>\n",
       "      <td>50.0</td>\n",
       "      <td>50.0</td>\n",
       "      <td>0.0</td>\n",
       "    </tr>\n",
       "    <tr>\n",
       "      <th>7455</th>\n",
       "      <td>img_7455</td>\n",
       "      <td>0.0</td>\n",
       "      <td>5.0</td>\n",
       "      <td>5.0</td>\n",
       "      <td>50.0</td>\n",
       "      <td>50.0</td>\n",
       "      <td>0.0</td>\n",
       "    </tr>\n",
       "    <tr>\n",
       "      <th>4782</th>\n",
       "      <td>img_4782</td>\n",
       "      <td>0.0</td>\n",
       "      <td>5.0</td>\n",
       "      <td>5.0</td>\n",
       "      <td>50.0</td>\n",
       "      <td>50.0</td>\n",
       "      <td>0.0</td>\n",
       "    </tr>\n",
       "    <tr>\n",
       "      <th>8819</th>\n",
       "      <td>img_8819</td>\n",
       "      <td>0.0</td>\n",
       "      <td>5.0</td>\n",
       "      <td>5.0</td>\n",
       "      <td>50.0</td>\n",
       "      <td>50.0</td>\n",
       "      <td>0.0</td>\n",
       "    </tr>\n",
       "  </tbody>\n",
       "</table>\n",
       "<p>68 rows × 7 columns</p>\n",
       "</div>"
      ],
      "text/plain": [
       "answer image_name        no  yes  yes_pct  no_pct  agreement\n",
       "7533     img_7533  0.0  5.0  5.0     50.0    50.0        0.0\n",
       "7309     img_7309  0.0  5.0  5.0     50.0    50.0        0.0\n",
       "3771     img_3771  0.0  5.0  5.0     50.0    50.0        0.0\n",
       "3382     img_3382  0.0  5.0  5.0     50.0    50.0        0.0\n",
       "7080     img_7080  0.0  5.0  5.0     50.0    50.0        0.0\n",
       "...           ...  ...  ...  ...      ...     ...        ...\n",
       "2414     img_2414  0.0  5.0  5.0     50.0    50.0        0.0\n",
       "5299     img_5299  0.0  5.0  5.0     50.0    50.0        0.0\n",
       "7455     img_7455  0.0  5.0  5.0     50.0    50.0        0.0\n",
       "4782     img_4782  0.0  5.0  5.0     50.0    50.0        0.0\n",
       "8819     img_8819  0.0  5.0  5.0     50.0    50.0        0.0\n",
       "\n",
       "[68 rows x 7 columns]"
      ]
     },
     "execution_count": 26,
     "metadata": {},
     "output_type": "execute_result"
    }
   ],
   "source": [
    "answ = answ.sort_values(by='agreement')\n",
    "answ[answ.agreement == 0]"
   ]
  },
  {
   "cell_type": "code",
   "execution_count": 27,
   "id": "2662e696",
   "metadata": {},
   "outputs": [
    {
     "name": "stdout",
     "output_type": "stream",
     "text": [
      "The users have polar opinions on 68 pictures\n"
     ]
    }
   ],
   "source": [
    "print(\"The users have polar opinions on {} pictures\".format(len(answ[answ.agreement == 0])))"
   ]
  },
  {
   "cell_type": "raw",
   "id": "acb108c4",
   "metadata": {},
   "source": [
    "2. Besides picking yes or no the annotators had the chance to tell if the data were\n",
    "corrupted or if they for any reason were not able to solve the task. These are fields\n",
    "'cant_solve' and 'corrupt_data' given in the task_output.\n",
    "a. How often does each occur in the project and do you see a trend within the\n",
    "annotators that made use of these options?"
   ]
  },
  {
   "cell_type": "code",
   "execution_count": 28,
   "id": "3462c816",
   "metadata": {},
   "outputs": [
    {
     "name": "stdout",
     "output_type": "stream",
     "text": [
      "Marked as corrupt: 3 responses, 0.003% from total responses\n",
      "Couldn't solve: 17 responses, 0.019% from total responses\n",
      "\n"
     ]
    }
   ],
   "source": [
    "print(\"Marked as corrupt: {} responses, {:.3f}% from total responses\\nCouldn't solve: {} responses, {:.3f}% from total responses\\n\".format(len(df[df.corrupt_data == True]), \n",
    "                                                                                                                                          len(df[df.corrupt_data == True]) / len(df) * 100, \n",
    "                                                                                                                                          len(df[df.cant_solve == True]), \n",
    "                                                                                                                                          len(df[df.cant_solve == True]) / len(df) * 100))\n"
   ]
  },
  {
   "cell_type": "code",
   "execution_count": 29,
   "id": "159ee815",
   "metadata": {},
   "outputs": [
    {
     "name": "stdout",
     "output_type": "stream",
     "text": [
      "Cant solve:\n",
      " vendor_user_id\n",
      "annotator_02    2\n",
      "annotator_04    4\n",
      "annotator_07    1\n",
      "annotator_08    2\n",
      "annotator_11    1\n",
      "annotator_14    1\n",
      "annotator_18    1\n",
      "annotator_20    1\n",
      "annotator_22    4\n",
      "dtype: int64\n",
      "Marked data as corrupt:\n",
      " vendor_user_id\n",
      "annotator_08    1\n",
      "annotator_18    2\n",
      "dtype: int64\n"
     ]
    }
   ],
   "source": [
    "# by individual annotators\n",
    "\n",
    "print('Cant solve:\\n', df[(df.cant_solve == True)].groupby('vendor_user_id').size())\n",
    "print('Marked data as corrupt:\\n',df[(df.corrupt_data == True)].groupby('vendor_user_id').size())"
   ]
  },
  {
   "cell_type": "code",
   "execution_count": 30,
   "id": "0825f372",
   "metadata": {},
   "outputs": [
    {
     "data": {
      "text/plain": [
       "vendor_user_id\n",
       "annotator_04    4\n",
       "annotator_22    4\n",
       "annotator_08    3\n",
       "annotator_18    3\n",
       "annotator_02    2\n",
       "annotator_07    1\n",
       "annotator_11    1\n",
       "annotator_14    1\n",
       "annotator_20    1\n",
       "dtype: int64"
      ]
     },
     "execution_count": 30,
     "metadata": {},
     "output_type": "execute_result"
    }
   ],
   "source": [
    "# by anotators: both marked as corrupt and couldn't solve\n",
    "\n",
    "df[(df.cant_solve == True) | (df.corrupt_data == True)].groupby('vendor_user_id').size().sort_values(ascending=False)"
   ]
  },
  {
   "cell_type": "raw",
   "id": "0d7a704e",
   "metadata": {},
   "source": [
    "3. Is the reference set balanced? Please demonstrate via numbers and visualizations."
   ]
  },
  {
   "cell_type": "code",
   "execution_count": 31,
   "id": "ae71835b",
   "metadata": {},
   "outputs": [
    {
     "data": {
      "image/png": "[encoded data removed]",
      "text/plain": [
       "<Figure size 576x432 with 1 Axes>"
      ]
     },
     "metadata": {
      "needs_background": "light"
     },
     "output_type": "display_data"
    }
   ],
   "source": [
    "plt.figure(figsize=(8, 6))\n",
    "\n",
    "counts = references['is_bicycle'].value_counts()\n",
    "ax = counts.plot(kind='bar')\n",
    "\n",
    "for i, count in enumerate(counts):\n",
    "    ax.text(i, count+0.1, str(count), ha='center', va='bottom')\n",
    "\n",
    "plt.title(\"Reference set\")\n",
    "plt.show()\n",
    "\n",
    "# seems to be quite balanced"
   ]
  },
  {
   "cell_type": "code",
   "execution_count": 32,
   "id": "94b41240",
   "metadata": {},
   "outputs": [
    {
     "data": {
      "text/plain": [
       "answer\n",
       "          20\n",
       "no     44715\n",
       "yes    46129\n",
       "dtype: int64"
      ]
     },
     "execution_count": 32,
     "metadata": {},
     "output_type": "execute_result"
    }
   ],
   "source": [
    "df.groupby('answer').size() # as well as the answers"
   ]
  },
  {
   "cell_type": "raw",
   "id": "19f9e800",
   "metadata": {},
   "source": [
    "4. Using the reference set, can you identify good and bad annotators? Please use\n",
    "statistics and visualizations. Feel free to get creative."
   ]
  },
  {
   "cell_type": "code",
   "execution_count": 33,
   "id": "b2aee427",
   "metadata": {},
   "outputs": [],
   "source": [
    "df = pd.merge(df, references, on='image_name')"
   ]
  },
  {
   "cell_type": "code",
   "execution_count": 34,
   "id": "33f85385",
   "metadata": {},
   "outputs": [],
   "source": [
    "df.answer = df.answer.replace({'yes': True, 'no': False}).astype(bool)"
   ]
  },
  {
   "cell_type": "code",
   "execution_count": 35,
   "id": "aebd00be",
   "metadata": {},
   "outputs": [
    {
     "name": "stdout",
     "output_type": "stream",
     "text": [
      "Total accuracy: 0.935 \n",
      "Total precision: 0.933 \n",
      "Total recall: 0.938\n"
     ]
    }
   ],
   "source": [
    "# Total metrics: with sklearn\n",
    "from sklearn import metrics\n",
    "\n",
    "accuracy = metrics.accuracy_score(df.is_bicycle, df.answer)\n",
    "precision = metrics.precision_score(df.is_bicycle, df.answer)\n",
    "recall = metrics.recall_score(df.is_bicycle, df.answer)\n",
    "\n",
    "print(\"Total accuracy: {:.3f} \\nTotal precision: {:.3f} \\nTotal recall: {:.3f}\".format(accuracy, precision, recall)) "
   ]
  },
  {
   "cell_type": "code",
   "execution_count": 36,
   "id": "9caa93b8",
   "metadata": {},
   "outputs": [],
   "source": [
    "# or if we want to do it by hand:\n",
    "\n",
    "tp = sum(df[\"is_bicycle\"] & df[\"answer\"])\n",
    "fp = sum((df[\"is_bicycle\"] == 0) & (df[\"answer\"] == 1))\n",
    "tn = sum((df[\"is_bicycle\"] == 0) & (df[\"answer\"] == 0))\n",
    "fn = sum(df[\"is_bicycle\"] & (df[\"answer\"] == 0))\n",
    "precision_ = tp / (tp + fp)\n",
    "recall_ = tp / (tp + fn)\n",
    "accuracy_ = (tp + tn) / len(df)"
   ]
  },
  {
   "cell_type": "code",
   "execution_count": 37,
   "id": "3d394bbc",
   "metadata": {},
   "outputs": [
    {
     "name": "stdout",
     "output_type": "stream",
     "text": [
      "Total accuracy: 0.935 \n",
      "Total precision: 0.933 \n",
      "Total recall: 0.938\n"
     ]
    }
   ],
   "source": [
    "print(\"Total accuracy: {:.3f} \\nTotal precision: {:.3f} \\nTotal recall: {:.3f}\".format(accuracy_, precision_, recall_)) "
   ]
  },
  {
   "cell_type": "code",
   "execution_count": 38,
   "id": "4598e304",
   "metadata": {},
   "outputs": [
    {
     "name": "stdout",
     "output_type": "stream",
     "text": [
      "Cohen's kappa: 0.8695226110483331\n"
     ]
    }
   ],
   "source": [
    "# another metric: Cohen's kappa\n",
    "from sklearn.metrics import cohen_kappa_score\n",
    "\n",
    "kappa = cohen_kappa_score(df.is_bicycle, df.answer)\n",
    "print(\"Cohen's kappa:\", kappa)\n",
    "\n",
    "# kappa is smaller than total accuracy, but that is normal - TBD on the presentation"
   ]
  },
  {
   "cell_type": "code",
   "execution_count": 34,
   "id": "3ff4cea9",
   "metadata": {},
   "outputs": [],
   "source": [
    "# by individual annotators"
   ]
  },
  {
   "cell_type": "code",
   "execution_count": 39,
   "id": "44e7c67d",
   "metadata": {},
   "outputs": [],
   "source": [
    "annotators_ranked = df[df['answer'] == df['is_bicycle']].groupby('vendor_user_id').size().reset_index().sort_values(by=0,ascending=False)\n",
    "annotators_ranked.rename(columns={0: 'correct'}, inplace=True)"
   ]
  },
  {
   "cell_type": "code",
   "execution_count": 40,
   "id": "0a6f9a49",
   "metadata": {},
   "outputs": [],
   "source": [
    "total_counts = df['vendor_user_id'].value_counts().to_frame().reset_index().rename(columns={'index': 'vendor_user_id', 'vendor_user_id': 'total_count'})\n",
    "annotators_ranked = pd.merge(annotators_ranked, total_counts, on='vendor_user_id')"
   ]
  },
  {
   "cell_type": "code",
   "execution_count": 41,
   "id": "f6761b00",
   "metadata": {},
   "outputs": [],
   "source": [
    "results = []\n",
    "for user_id, group in df.groupby(\"vendor_user_id\"):\n",
    "    tp = sum(group[\"is_bicycle\"] & group[\"answer\"])\n",
    "    fp = sum((group[\"is_bicycle\"] == 0) & (group[\"answer\"] == 1))\n",
    "    tn = sum((group[\"is_bicycle\"] == 0) & (group[\"answer\"] == 0))\n",
    "    fn = sum(group[\"is_bicycle\"] & (group[\"answer\"] == 0))\n",
    "    precision = tp / (tp + fp)\n",
    "    recall = tp / (tp + fn)\n",
    "    accuracy = (tp + tn) / len(group)\n",
    "    results.append({\"vendor_user_id\": user_id, \"precision\": precision, \"recall\": recall, \"accuracy\": accuracy})\n",
    "\n",
    "acc_results = pd.DataFrame(results)"
   ]
  },
  {
   "cell_type": "code",
   "execution_count": 42,
   "id": "9139cd68",
   "metadata": {},
   "outputs": [],
   "source": [
    "annotators_ranked = pd.merge(annotators_ranked, acc_results, on='vendor_user_id')"
   ]
  },
  {
   "cell_type": "code",
   "execution_count": 43,
   "id": "9b389481",
   "metadata": {},
   "outputs": [],
   "source": [
    "annotators_ranked = annotators_ranked.sort_values(by=\"accuracy\", ascending=False)\n",
    "\n",
    "best_annotator = annotators_ranked.iloc[0][\"vendor_user_id\"]\n",
    "worst_annotator = annotators_ranked.iloc[-1][\"vendor_user_id\"]"
   ]
  },
  {
   "cell_type": "code",
   "execution_count": 41,
   "id": "47a9afb8",
   "metadata": {},
   "outputs": [
    {
     "name": "stdout",
     "output_type": "stream",
     "text": [
      "The user with the total highest accuracy is annotator_01 with accuracy 0.948\n",
      "The user with the total lowest accuracy is annotator_10 with accuracy 0.889\n"
     ]
    }
   ],
   "source": [
    "# best / worst annotator\n",
    "\n",
    "print(\"The user with the total highest accuracy is {} with accuracy {:.3f}\".format(best_annotator, annotators_ranked.iloc[0][\"accuracy\"]))\n",
    "print(\"The user with the total lowest accuracy is {} with accuracy {:.3f}\".format(worst_annotator, annotators_ranked.iloc[-1][\"accuracy\"]))"
   ]
  },
  {
   "cell_type": "code",
   "execution_count": 45,
   "id": "23a3374f",
   "metadata": {},
   "outputs": [
    {
     "data": {
      "image/png": "[encoded data removed]",
      "text/plain": [
       "<Figure size 1080x576 with 1 Axes>"
      ]
     },
     "metadata": {
      "needs_background": "light"
     },
     "output_type": "display_data"
    }
   ],
   "source": [
    "annotators_ranked = annotators_ranked.sort_values(by=\"total_count\", ascending=False)\n",
    "\n",
    "plt.figure(figsize=(15, 8))\n",
    "\n",
    "plt.bar(annotators_ranked['vendor_user_id'], annotators_ranked['correct'], label='Correct')\n",
    "plt.bar(annotators_ranked['vendor_user_id'], annotators_ranked['total_count'] - annotators_ranked['correct'], bottom=annotators_ranked['correct'], label='Incorrect')\n",
    "plt.legend()\n",
    "plt.title('Accuracy by Annotator (image count)')\n",
    "#plt.xlabel('Annotator')\n",
    "plt.ylabel('Count')\n",
    "plt.xticks(rotation=90)\n",
    "\n",
    "plt.show()"
   ]
  },
  {
   "cell_type": "code",
   "execution_count": 46,
   "id": "248438eb",
   "metadata": {},
   "outputs": [
    {
     "name": "stdout",
     "output_type": "stream",
     "text": [
      "         user_id   roc_auc\n",
      "0   annotator_01  0.948090\n",
      "1   annotator_02  0.934822\n",
      "2   annotator_03  0.928475\n",
      "3   annotator_04  0.928012\n",
      "4   annotator_05  0.937033\n",
      "5   annotator_06  0.926015\n",
      "6   annotator_07  0.915176\n",
      "7   annotator_08  0.899162\n",
      "8   annotator_09  0.933397\n",
      "9   annotator_10  0.883679\n",
      "10  annotator_11  0.936510\n",
      "11  annotator_12  0.928898\n",
      "12  annotator_13  0.946858\n",
      "13  annotator_14  0.946669\n",
      "14  annotator_15  0.948392\n",
      "15  annotator_16  0.942560\n",
      "16  annotator_17  0.942435\n",
      "17  annotator_18  0.936716\n",
      "18  annotator_19  0.945221\n",
      "19  annotator_20  0.948259\n",
      "20  annotator_21  0.939954\n",
      "21  annotator_22  0.943270\n"
     ]
    }
   ],
   "source": [
    "# optional: ROC AUC curve (but maybe more of help, when the dataset is imbalanced)\n",
    "\n",
    "from sklearn.metrics import roc_auc_score\n",
    "\n",
    "roc_auc_scores = []\n",
    "\n",
    "for user_id, user_df in df.groupby(\"vendor_user_id\"):\n",
    "    roc_auc = roc_auc_score(user_df[\"is_bicycle\"], user_df[\"answer\"])\n",
    "    roc_auc_scores.append((user_id, roc_auc))\n",
    "\n",
    "roc_auc_df = pd.DataFrame(roc_auc_scores, columns=[\"user_id\", \"roc_auc\"])\n",
    "print(roc_auc_df)"
   ]
  },
  {
   "cell_type": "code",
   "execution_count": 47,
   "id": "5f9cd7f1",
   "metadata": {},
   "outputs": [],
   "source": [
    "from sklearn.metrics import roc_curve, auc\n",
    "\n",
    "fpr, tpr, thresholds = roc_curve(df[\"is_bicycle\"], df[\"answer\"])\n",
    "roc_auc = auc(fpr, tpr)"
   ]
  },
  {
   "cell_type": "code",
   "execution_count": 48,
   "id": "d65c5890",
   "metadata": {},
   "outputs": [
    {
     "data": {
      "image/png": "[encoded data removed]",
      "text/plain": [
       "<Figure size 1080x576 with 1 Axes>"
      ]
     },
     "metadata": {
      "needs_background": "light"
     },
     "output_type": "display_data"
    }
   ],
   "source": [
    "plt.figure(figsize=(15, 8))\n",
    "\n",
    "plt.plot(fpr, tpr, label=f\"AUC={roc_auc:.2f}\")\n",
    "plt.xlabel(\"False Positive Rate (FPR)\")\n",
    "plt.ylabel(\"True Positive Rate (TPR)\")\n",
    "plt.title(\"Receiver Operating Characteristic (ROC) Curve\")\n",
    "plt.legend()\n",
    "plt.show()"
   ]
  },
  {
   "cell_type": "code",
   "execution_count": null,
   "id": "c3a47f55",
   "metadata": {},
   "outputs": [],
   "source": []
  }
 ],
 "metadata": {
  "kernelspec": {
   "display_name": "Python 3",
   "language": "python",
   "name": "python3"
  },
  "language_info": {
   "codemirror_mode": {
    "name": "ipython",
    "version": 3
   },
   "file_extension": ".py",
   "mimetype": "text/x-python",
   "name": "python",
   "nbconvert_exporter": "python",
   "pygments_lexer": "ipython3",
   "version": "3.9.5"
  }
 },
 "nbformat": 4,
 "nbformat_minor": 5
}
